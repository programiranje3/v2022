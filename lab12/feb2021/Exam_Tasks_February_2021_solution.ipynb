{
 "cells": [
  {
   "cell_type": "markdown",
   "metadata": {
    "id": "LtIqLNHaBikk",
    "pycharm": {
     "name": "#%% md\n"
    }
   },
   "source": [
    "# Programiranje 3: Februar 2021 \n",
    "\n"
   ]
  },
  {
   "cell_type": "markdown",
   "metadata": {
    "id": "2ZJxxrhgBiko",
    "pycharm": {
     "name": "#%% md\n"
    }
   },
   "source": [
    "### Uputstva\n",
    "\n",
    "- Ispit traje 90 min\n",
    "- Ovu svesku je potrebno preimenovati tako da naziv bude u formatu: Prezime_Ime_Indeks (izbegavati naša slova u imenu i prezimenu)\n",
    "- Dozvoljeno je korišćenje samo onih materijala koji se nalaze u folderu P3 Feb 2021 na desktop-u \n",
    "- Nije dozvoljeno korišćenje Interneta, niti korišćenje pomoćnih materijala u elektronskom, papirnom, ili bilo kom drugom obliku\n",
    "- Strogo je zabranjeno iznošenje, fotografisanje ili umnožavanje zadatka na bilo koji način; povreda ovog pravila se strogo kažnjava\n",
    "- Preporučuje se često snimanje (Save) onoga što je urađeno, kako u slučaju problema sa računarom, nestankom struje i sl. ne bi bilo izgubljeno ono što je uradjeno\n",
    "- Nakon završenog ispita treba ostaviti otvoreno razvojno okruženje (dakle, ne zatvarati ga)\n",
    "- Na pitanja tipa \"Kada će, otprilike, biti objavljeni rezultati?\" u ovom trenutku nije moguće odgovoriti – čim pregledanje bude završeno, rezultati će biti objavljeni na sajtu predmeta i tom prilikom će biti poznat i termin za uvid u radove."
   ]
  },
  {
   "cell_type": "markdown",
   "metadata": {
    "id": "_sw9AU8qBikp",
    "pycharm": {
     "name": "#%% md\n"
    }
   },
   "source": [
    "### O ispitnom zadatku\n",
    "\n",
    "U nastavku su date instrukcije za učitavanje skupa podataka koji je predmet analize u okviru ovog ispitnog zadatka. <br> Za svaki zahtev ili grupu zahteva zadatka je naveden broj poena koji nosi.<br> Prva grupa zahteva se odnosi na pripremu podataka za analizu i u tom smislu predstavlja preduslov za kasnije zahteve zadatka. "
   ]
  },
  {
   "cell_type": "code",
   "execution_count": 1,
   "metadata": {
    "id": "QIMg8qZhBikp",
    "pycharm": {
     "name": "#%%\n"
    }
   },
   "outputs": [],
   "source": [
    "import pandas as pd\n",
    "import matplotlib.pyplot as plt\n",
    "from pathlib import Path"
   ]
  },
  {
   "cell_type": "markdown",
   "metadata": {
    "id": "nNyEnYXjBikp",
    "pycharm": {
     "name": "#%% md\n"
    }
   },
   "source": [
    "### 1. Učitavanje i priprema podataka (ukupno 20p)"
   ]
  },
  {
   "cell_type": "markdown",
   "metadata": {
    "id": "BLRULfP0Bikq",
    "pycharm": {
     "name": "#%% md\n"
    }
   },
   "source": [
    "#### 1.1 Učitatiti podatke iz fajla online_retail.csv i kreirati DataFrame koji će biti korišćen u daljem radu\n",
    "\n",
    "Napomena: ukoliko prilikom učitavanja podataka dobijete *utf-8 decode error*, postavite, u funkciji za učitavanje podataka, vrednost argumenta ``encoding`` na \"latin1\"."
   ]
  },
  {
   "cell_type": "code",
   "execution_count": 2,
   "metadata": {
    "id": "TWTGftdqBikq",
    "pycharm": {
     "name": "#%%\n"
    }
   },
   "outputs": [],
   "source": [
    "retail = pd.read_csv(Path.cwd() / 'data' / 'Online_Retail.csv')"
   ]
  },
  {
   "cell_type": "code",
   "execution_count": 3,
   "outputs": [
    {
     "data": {
      "text/plain": "   Unnamed: 0 InvoiceNo StockCode                          Description  \\\n0           0    536365    85123A   WHITE HANGING HEART T-LIGHT HOLDER   \n1           1    536365     71053                  WHITE METAL LANTERN   \n2           2    536365    84406B       CREAM CUPID HEARTS COAT HANGER   \n3           3    536365    84029G  KNITTED UNION FLAG HOT WATER BOTTLE   \n4           4    536365    84029E       RED WOOLLY HOTTIE WHITE HEART.   \n\n   Quantity   InvoiceDate  UnitPrice  CustomerID         Country  \n0         6  12/1/10 8:26       2.55     17850.0  United Kingdom  \n1         6  12/1/10 8:26       3.39     17850.0  United Kingdom  \n2         8  12/1/10 8:26       2.75     17850.0  United Kingdom  \n3         6  12/1/10 8:26       3.39     17850.0  United Kingdom  \n4         6  12/1/10 8:26       3.39     17850.0  United Kingdom  ",
      "text/html": "<div>\n<style scoped>\n    .dataframe tbody tr th:only-of-type {\n        vertical-align: middle;\n    }\n\n    .dataframe tbody tr th {\n        vertical-align: top;\n    }\n\n    .dataframe thead th {\n        text-align: right;\n    }\n</style>\n<table border=\"1\" class=\"dataframe\">\n  <thead>\n    <tr style=\"text-align: right;\">\n      <th></th>\n      <th>Unnamed: 0</th>\n      <th>InvoiceNo</th>\n      <th>StockCode</th>\n      <th>Description</th>\n      <th>Quantity</th>\n      <th>InvoiceDate</th>\n      <th>UnitPrice</th>\n      <th>CustomerID</th>\n      <th>Country</th>\n    </tr>\n  </thead>\n  <tbody>\n    <tr>\n      <th>0</th>\n      <td>0</td>\n      <td>536365</td>\n      <td>85123A</td>\n      <td>WHITE HANGING HEART T-LIGHT HOLDER</td>\n      <td>6</td>\n      <td>12/1/10 8:26</td>\n      <td>2.55</td>\n      <td>17850.0</td>\n      <td>United Kingdom</td>\n    </tr>\n    <tr>\n      <th>1</th>\n      <td>1</td>\n      <td>536365</td>\n      <td>71053</td>\n      <td>WHITE METAL LANTERN</td>\n      <td>6</td>\n      <td>12/1/10 8:26</td>\n      <td>3.39</td>\n      <td>17850.0</td>\n      <td>United Kingdom</td>\n    </tr>\n    <tr>\n      <th>2</th>\n      <td>2</td>\n      <td>536365</td>\n      <td>84406B</td>\n      <td>CREAM CUPID HEARTS COAT HANGER</td>\n      <td>8</td>\n      <td>12/1/10 8:26</td>\n      <td>2.75</td>\n      <td>17850.0</td>\n      <td>United Kingdom</td>\n    </tr>\n    <tr>\n      <th>3</th>\n      <td>3</td>\n      <td>536365</td>\n      <td>84029G</td>\n      <td>KNITTED UNION FLAG HOT WATER BOTTLE</td>\n      <td>6</td>\n      <td>12/1/10 8:26</td>\n      <td>3.39</td>\n      <td>17850.0</td>\n      <td>United Kingdom</td>\n    </tr>\n    <tr>\n      <th>4</th>\n      <td>4</td>\n      <td>536365</td>\n      <td>84029E</td>\n      <td>RED WOOLLY HOTTIE WHITE HEART.</td>\n      <td>6</td>\n      <td>12/1/10 8:26</td>\n      <td>3.39</td>\n      <td>17850.0</td>\n      <td>United Kingdom</td>\n    </tr>\n  </tbody>\n</table>\n</div>"
     },
     "execution_count": 3,
     "metadata": {},
     "output_type": "execute_result"
    }
   ],
   "source": [
    "retail.head()"
   ],
   "metadata": {
    "collapsed": false,
    "pycharm": {
     "name": "#%%\n"
    }
   }
  },
  {
   "cell_type": "code",
   "execution_count": 4,
   "outputs": [],
   "source": [
    "retail.drop(columns='Unnamed: 0', inplace=True)"
   ],
   "metadata": {
    "collapsed": false,
    "pycharm": {
     "name": "#%%\n"
    }
   }
  },
  {
   "cell_type": "markdown",
   "metadata": {
    "id": "vboEFFZEBikr",
    "pycharm": {
     "name": "#%% md\n"
    }
   },
   "source": [
    "#### 1.2 Odrediti broj redova i kolona u kreiranom DataFrame-u, kao i tipove podataka atributa (kolona)   "
   ]
  },
  {
   "cell_type": "code",
   "execution_count": 5,
   "metadata": {
    "id": "gk0Dwgp5IAEo",
    "pycharm": {
     "name": "#%%\n"
    }
   },
   "outputs": [
    {
     "name": "stdout",
     "output_type": "stream",
     "text": [
      "<class 'pandas.core.frame.DataFrame'>\n",
      "RangeIndex: 541909 entries, 0 to 541908\n",
      "Data columns (total 8 columns):\n",
      " #   Column       Non-Null Count   Dtype  \n",
      "---  ------       --------------   -----  \n",
      " 0   InvoiceNo    541909 non-null  object \n",
      " 1   StockCode    541909 non-null  object \n",
      " 2   Description  540455 non-null  object \n",
      " 3   Quantity     541909 non-null  int64  \n",
      " 4   InvoiceDate  541909 non-null  object \n",
      " 5   UnitPrice    541909 non-null  float64\n",
      " 6   CustomerID   406829 non-null  float64\n",
      " 7   Country      541909 non-null  object \n",
      "dtypes: float64(2), int64(1), object(5)\n",
      "memory usage: 33.1+ MB\n"
     ]
    }
   ],
   "source": [
    "retail.info()"
   ]
  },
  {
   "cell_type": "markdown",
   "metadata": {
    "id": "lsYo5yIcBiks",
    "pycharm": {
     "name": "#%% md\n"
    }
   },
   "source": [
    "#### 1.3 Očistiti podatke tako da ostanu samo opservacije (redovi) sa smislenim vrednostima atributa (kolona)\n",
    "\n",
    "Primer besmislene vrednosti je negativna vrednost za cenu ili naručenu količinu."
   ]
  },
  {
   "cell_type": "code",
   "execution_count": 6,
   "metadata": {
    "id": "1j7nkrHSIBCV",
    "pycharm": {
     "name": "#%%\n"
    }
   },
   "outputs": [
    {
     "data": {
      "text/plain": "            Quantity      UnitPrice     CustomerID\ncount  541909.000000  541909.000000  406829.000000\nmean        9.552250       4.611114   15287.690570\nstd       218.081158      96.759853    1713.600303\nmin    -80995.000000  -11062.060000   12346.000000\n25%         1.000000       1.250000   13953.000000\n50%         3.000000       2.080000   15152.000000\n75%        10.000000       4.130000   16791.000000\nmax     80995.000000   38970.000000   18287.000000",
      "text/html": "<div>\n<style scoped>\n    .dataframe tbody tr th:only-of-type {\n        vertical-align: middle;\n    }\n\n    .dataframe tbody tr th {\n        vertical-align: top;\n    }\n\n    .dataframe thead th {\n        text-align: right;\n    }\n</style>\n<table border=\"1\" class=\"dataframe\">\n  <thead>\n    <tr style=\"text-align: right;\">\n      <th></th>\n      <th>Quantity</th>\n      <th>UnitPrice</th>\n      <th>CustomerID</th>\n    </tr>\n  </thead>\n  <tbody>\n    <tr>\n      <th>count</th>\n      <td>541909.000000</td>\n      <td>541909.000000</td>\n      <td>406829.000000</td>\n    </tr>\n    <tr>\n      <th>mean</th>\n      <td>9.552250</td>\n      <td>4.611114</td>\n      <td>15287.690570</td>\n    </tr>\n    <tr>\n      <th>std</th>\n      <td>218.081158</td>\n      <td>96.759853</td>\n      <td>1713.600303</td>\n    </tr>\n    <tr>\n      <th>min</th>\n      <td>-80995.000000</td>\n      <td>-11062.060000</td>\n      <td>12346.000000</td>\n    </tr>\n    <tr>\n      <th>25%</th>\n      <td>1.000000</td>\n      <td>1.250000</td>\n      <td>13953.000000</td>\n    </tr>\n    <tr>\n      <th>50%</th>\n      <td>3.000000</td>\n      <td>2.080000</td>\n      <td>15152.000000</td>\n    </tr>\n    <tr>\n      <th>75%</th>\n      <td>10.000000</td>\n      <td>4.130000</td>\n      <td>16791.000000</td>\n    </tr>\n    <tr>\n      <th>max</th>\n      <td>80995.000000</td>\n      <td>38970.000000</td>\n      <td>18287.000000</td>\n    </tr>\n  </tbody>\n</table>\n</div>"
     },
     "execution_count": 6,
     "metadata": {},
     "output_type": "execute_result"
    }
   ],
   "source": [
    "retail.describe()"
   ]
  },
  {
   "cell_type": "code",
   "execution_count": 7,
   "outputs": [],
   "source": [
    "to_remove = retail.loc[(retail.Quantity <= 0) | (retail.UnitPrice <= 0),].index"
   ],
   "metadata": {
    "collapsed": false,
    "pycharm": {
     "name": "#%%\n"
    }
   }
  },
  {
   "cell_type": "code",
   "execution_count": 8,
   "outputs": [
    {
     "data": {
      "text/plain": "11805"
     },
     "execution_count": 8,
     "metadata": {},
     "output_type": "execute_result"
    }
   ],
   "source": [
    "len(to_remove)"
   ],
   "metadata": {
    "collapsed": false,
    "pycharm": {
     "name": "#%%\n"
    }
   }
  },
  {
   "cell_type": "code",
   "execution_count": 9,
   "outputs": [],
   "source": [
    "retail.drop(to_remove, axis=0, inplace=True)"
   ],
   "metadata": {
    "collapsed": false,
    "pycharm": {
     "name": "#%%\n"
    }
   }
  },
  {
   "cell_type": "code",
   "execution_count": 10,
   "outputs": [
    {
     "data": {
      "text/plain": "            Quantity      UnitPrice     CustomerID\ncount  530104.000000  530104.000000  397884.000000\nmean       10.542037       3.907625   15294.423453\nstd       155.524124      35.915681    1713.141560\nmin         1.000000       0.001000   12346.000000\n25%         1.000000       1.250000   13969.000000\n50%         3.000000       2.080000   15159.000000\n75%        10.000000       4.130000   16795.000000\nmax     80995.000000   13541.330000   18287.000000",
      "text/html": "<div>\n<style scoped>\n    .dataframe tbody tr th:only-of-type {\n        vertical-align: middle;\n    }\n\n    .dataframe tbody tr th {\n        vertical-align: top;\n    }\n\n    .dataframe thead th {\n        text-align: right;\n    }\n</style>\n<table border=\"1\" class=\"dataframe\">\n  <thead>\n    <tr style=\"text-align: right;\">\n      <th></th>\n      <th>Quantity</th>\n      <th>UnitPrice</th>\n      <th>CustomerID</th>\n    </tr>\n  </thead>\n  <tbody>\n    <tr>\n      <th>count</th>\n      <td>530104.000000</td>\n      <td>530104.000000</td>\n      <td>397884.000000</td>\n    </tr>\n    <tr>\n      <th>mean</th>\n      <td>10.542037</td>\n      <td>3.907625</td>\n      <td>15294.423453</td>\n    </tr>\n    <tr>\n      <th>std</th>\n      <td>155.524124</td>\n      <td>35.915681</td>\n      <td>1713.141560</td>\n    </tr>\n    <tr>\n      <th>min</th>\n      <td>1.000000</td>\n      <td>0.001000</td>\n      <td>12346.000000</td>\n    </tr>\n    <tr>\n      <th>25%</th>\n      <td>1.000000</td>\n      <td>1.250000</td>\n      <td>13969.000000</td>\n    </tr>\n    <tr>\n      <th>50%</th>\n      <td>3.000000</td>\n      <td>2.080000</td>\n      <td>15159.000000</td>\n    </tr>\n    <tr>\n      <th>75%</th>\n      <td>10.000000</td>\n      <td>4.130000</td>\n      <td>16795.000000</td>\n    </tr>\n    <tr>\n      <th>max</th>\n      <td>80995.000000</td>\n      <td>13541.330000</td>\n      <td>18287.000000</td>\n    </tr>\n  </tbody>\n</table>\n</div>"
     },
     "execution_count": 10,
     "metadata": {},
     "output_type": "execute_result"
    }
   ],
   "source": [
    "retail.describe()"
   ],
   "metadata": {
    "collapsed": false,
    "pycharm": {
     "name": "#%%\n"
    }
   }
  },
  {
   "cell_type": "markdown",
   "metadata": {
    "id": "sxPuTt7FBikt",
    "pycharm": {
     "name": "#%% md\n"
    }
   },
   "source": [
    "#### 1.4 Proveriti prisustvo nedostajućih vrednosti i obrisati sve redove koji imaju makar jednu nedostajuću vrednost"
   ]
  },
  {
   "cell_type": "code",
   "execution_count": 11,
   "metadata": {
    "id": "4egNz0O_IB04",
    "pycharm": {
     "name": "#%%\n"
    }
   },
   "outputs": [
    {
     "data": {
      "text/plain": "InvoiceNo           0\nStockCode           0\nDescription         0\nQuantity            0\nInvoiceDate         0\nUnitPrice           0\nCustomerID     132220\nCountry             0\ndtype: int64"
     },
     "execution_count": 11,
     "metadata": {},
     "output_type": "execute_result"
    }
   ],
   "source": [
    "retail.isna().sum()"
   ]
  },
  {
   "cell_type": "code",
   "execution_count": 12,
   "outputs": [],
   "source": [
    "retail.dropna(axis=0, how='any', inplace=True)"
   ],
   "metadata": {
    "collapsed": false,
    "pycharm": {
     "name": "#%%\n"
    }
   }
  },
  {
   "cell_type": "code",
   "execution_count": 13,
   "outputs": [
    {
     "data": {
      "text/plain": "0"
     },
     "execution_count": 13,
     "metadata": {},
     "output_type": "execute_result"
    }
   ],
   "source": [
    "retail.isna().sum().sum()"
   ],
   "metadata": {
    "collapsed": false,
    "pycharm": {
     "name": "#%%\n"
    }
   }
  },
  {
   "cell_type": "code",
   "execution_count": 14,
   "outputs": [
    {
     "data": {
      "text/plain": "(397884, 8)"
     },
     "execution_count": 14,
     "metadata": {},
     "output_type": "execute_result"
    }
   ],
   "source": [
    "retail.shape"
   ],
   "metadata": {
    "collapsed": false,
    "pycharm": {
     "name": "#%%\n"
    }
   }
  },
  {
   "cell_type": "markdown",
   "metadata": {
    "id": "kMTdH6F8Biku",
    "pycharm": {
     "name": "#%% md\n"
    }
   },
   "source": [
    "#### 1.5 Transformisati kolone CustomerID i InvoiceDate\n",
    "\n",
    "Kolona ``CustomerID`` bi trebalo da bude tipa ``int``. <br>\n",
    "Kolona ``InvoiceDate`` bi trebalo da bude tipa ``datetime``."
   ]
  },
  {
   "cell_type": "code",
   "execution_count": 15,
   "outputs": [
    {
     "data": {
      "text/plain": "        CustomerID     InvoiceDate\n504637     17231.0  11/27/11 15:18\n485639     14911.0  11/21/11 10:02\n458077     18118.0  11/11/11 10:48\n107979     16709.0    3/3/11 10:55\n246230     14016.0    7/1/11 11:29\n367100     17348.0   9/29/11 11:39\n136198     16814.0   3/28/11 14:43\n63710      15831.0   1/19/11 14:52\n165802     17841.0   4/21/11 10:19\n517086     13890.0   12/1/11 12:11",
      "text/html": "<div>\n<style scoped>\n    .dataframe tbody tr th:only-of-type {\n        vertical-align: middle;\n    }\n\n    .dataframe tbody tr th {\n        vertical-align: top;\n    }\n\n    .dataframe thead th {\n        text-align: right;\n    }\n</style>\n<table border=\"1\" class=\"dataframe\">\n  <thead>\n    <tr style=\"text-align: right;\">\n      <th></th>\n      <th>CustomerID</th>\n      <th>InvoiceDate</th>\n    </tr>\n  </thead>\n  <tbody>\n    <tr>\n      <th>504637</th>\n      <td>17231.0</td>\n      <td>11/27/11 15:18</td>\n    </tr>\n    <tr>\n      <th>485639</th>\n      <td>14911.0</td>\n      <td>11/21/11 10:02</td>\n    </tr>\n    <tr>\n      <th>458077</th>\n      <td>18118.0</td>\n      <td>11/11/11 10:48</td>\n    </tr>\n    <tr>\n      <th>107979</th>\n      <td>16709.0</td>\n      <td>3/3/11 10:55</td>\n    </tr>\n    <tr>\n      <th>246230</th>\n      <td>14016.0</td>\n      <td>7/1/11 11:29</td>\n    </tr>\n    <tr>\n      <th>367100</th>\n      <td>17348.0</td>\n      <td>9/29/11 11:39</td>\n    </tr>\n    <tr>\n      <th>136198</th>\n      <td>16814.0</td>\n      <td>3/28/11 14:43</td>\n    </tr>\n    <tr>\n      <th>63710</th>\n      <td>15831.0</td>\n      <td>1/19/11 14:52</td>\n    </tr>\n    <tr>\n      <th>165802</th>\n      <td>17841.0</td>\n      <td>4/21/11 10:19</td>\n    </tr>\n    <tr>\n      <th>517086</th>\n      <td>13890.0</td>\n      <td>12/1/11 12:11</td>\n    </tr>\n  </tbody>\n</table>\n</div>"
     },
     "execution_count": 15,
     "metadata": {},
     "output_type": "execute_result"
    }
   ],
   "source": [
    "retail[['CustomerID', 'InvoiceDate']].sample(10)"
   ],
   "metadata": {
    "collapsed": false,
    "pycharm": {
     "name": "#%%\n"
    }
   }
  },
  {
   "cell_type": "code",
   "execution_count": 16,
   "outputs": [],
   "source": [
    "retail.CustomerID = pd.to_numeric(retail.CustomerID, errors='coerce', downcast='integer')\n",
    "retail.InvoiceDate = pd.to_datetime(retail.InvoiceDate, errors='coerce', infer_datetime_format=True)"
   ],
   "metadata": {
    "collapsed": false,
    "pycharm": {
     "name": "#%%\n"
    }
   }
  },
  {
   "cell_type": "code",
   "execution_count": 17,
   "outputs": [
    {
     "data": {
      "text/plain": "        CustomerID         InvoiceDate\n342686       14367 2011-09-15 14:05:00\n80084        15005 2011-02-02 14:29:00\n126794       15615 2011-03-21 10:31:00\n33373        15157 2010-12-16 13:44:00\n88272        17282 2011-02-13 11:36:00\n112871       15834 2011-03-07 17:52:00\n128616       15998 2011-03-22 12:25:00\n158894       16085 2011-04-17 12:25:00\n200942       14573 2011-05-23 11:52:00\n392490       16161 2011-10-11 16:50:00",
      "text/html": "<div>\n<style scoped>\n    .dataframe tbody tr th:only-of-type {\n        vertical-align: middle;\n    }\n\n    .dataframe tbody tr th {\n        vertical-align: top;\n    }\n\n    .dataframe thead th {\n        text-align: right;\n    }\n</style>\n<table border=\"1\" class=\"dataframe\">\n  <thead>\n    <tr style=\"text-align: right;\">\n      <th></th>\n      <th>CustomerID</th>\n      <th>InvoiceDate</th>\n    </tr>\n  </thead>\n  <tbody>\n    <tr>\n      <th>342686</th>\n      <td>14367</td>\n      <td>2011-09-15 14:05:00</td>\n    </tr>\n    <tr>\n      <th>80084</th>\n      <td>15005</td>\n      <td>2011-02-02 14:29:00</td>\n    </tr>\n    <tr>\n      <th>126794</th>\n      <td>15615</td>\n      <td>2011-03-21 10:31:00</td>\n    </tr>\n    <tr>\n      <th>33373</th>\n      <td>15157</td>\n      <td>2010-12-16 13:44:00</td>\n    </tr>\n    <tr>\n      <th>88272</th>\n      <td>17282</td>\n      <td>2011-02-13 11:36:00</td>\n    </tr>\n    <tr>\n      <th>112871</th>\n      <td>15834</td>\n      <td>2011-03-07 17:52:00</td>\n    </tr>\n    <tr>\n      <th>128616</th>\n      <td>15998</td>\n      <td>2011-03-22 12:25:00</td>\n    </tr>\n    <tr>\n      <th>158894</th>\n      <td>16085</td>\n      <td>2011-04-17 12:25:00</td>\n    </tr>\n    <tr>\n      <th>200942</th>\n      <td>14573</td>\n      <td>2011-05-23 11:52:00</td>\n    </tr>\n    <tr>\n      <th>392490</th>\n      <td>16161</td>\n      <td>2011-10-11 16:50:00</td>\n    </tr>\n  </tbody>\n</table>\n</div>"
     },
     "execution_count": 17,
     "metadata": {},
     "output_type": "execute_result"
    }
   ],
   "source": [
    "retail[['CustomerID', 'InvoiceDate']].sample(10)"
   ],
   "metadata": {
    "collapsed": false,
    "pycharm": {
     "name": "#%%\n"
    }
   }
  },
  {
   "cell_type": "markdown",
   "metadata": {
    "id": "O5957hu0Biku",
    "pycharm": {
     "name": "#%% md\n"
    }
   },
   "source": [
    "### 2. Odrediti 10 zemalja, izuzimajući Veliku Britaniju, koje su imale najveći ukupan broj poručenih artikala. <br>Prikazati na grafikonu (bar chart) ukupan broj poručenih artikala za ovih 10 zemalja. (15p)"
   ]
  },
  {
   "cell_type": "code",
   "execution_count": 18,
   "metadata": {
    "id": "4E4MH5fuIJgd",
    "pycharm": {
     "name": "#%%\n"
    }
   },
   "outputs": [
    {
     "data": {
      "text/plain": "  InvoiceNo StockCode                          Description  Quantity  \\\n0    536365    85123A   WHITE HANGING HEART T-LIGHT HOLDER         6   \n1    536365     71053                  WHITE METAL LANTERN         6   \n2    536365    84406B       CREAM CUPID HEARTS COAT HANGER         8   \n3    536365    84029G  KNITTED UNION FLAG HOT WATER BOTTLE         6   \n4    536365    84029E       RED WOOLLY HOTTIE WHITE HEART.         6   \n\n          InvoiceDate  UnitPrice  CustomerID         Country  \n0 2010-12-01 08:26:00       2.55       17850  United Kingdom  \n1 2010-12-01 08:26:00       3.39       17850  United Kingdom  \n2 2010-12-01 08:26:00       2.75       17850  United Kingdom  \n3 2010-12-01 08:26:00       3.39       17850  United Kingdom  \n4 2010-12-01 08:26:00       3.39       17850  United Kingdom  ",
      "text/html": "<div>\n<style scoped>\n    .dataframe tbody tr th:only-of-type {\n        vertical-align: middle;\n    }\n\n    .dataframe tbody tr th {\n        vertical-align: top;\n    }\n\n    .dataframe thead th {\n        text-align: right;\n    }\n</style>\n<table border=\"1\" class=\"dataframe\">\n  <thead>\n    <tr style=\"text-align: right;\">\n      <th></th>\n      <th>InvoiceNo</th>\n      <th>StockCode</th>\n      <th>Description</th>\n      <th>Quantity</th>\n      <th>InvoiceDate</th>\n      <th>UnitPrice</th>\n      <th>CustomerID</th>\n      <th>Country</th>\n    </tr>\n  </thead>\n  <tbody>\n    <tr>\n      <th>0</th>\n      <td>536365</td>\n      <td>85123A</td>\n      <td>WHITE HANGING HEART T-LIGHT HOLDER</td>\n      <td>6</td>\n      <td>2010-12-01 08:26:00</td>\n      <td>2.55</td>\n      <td>17850</td>\n      <td>United Kingdom</td>\n    </tr>\n    <tr>\n      <th>1</th>\n      <td>536365</td>\n      <td>71053</td>\n      <td>WHITE METAL LANTERN</td>\n      <td>6</td>\n      <td>2010-12-01 08:26:00</td>\n      <td>3.39</td>\n      <td>17850</td>\n      <td>United Kingdom</td>\n    </tr>\n    <tr>\n      <th>2</th>\n      <td>536365</td>\n      <td>84406B</td>\n      <td>CREAM CUPID HEARTS COAT HANGER</td>\n      <td>8</td>\n      <td>2010-12-01 08:26:00</td>\n      <td>2.75</td>\n      <td>17850</td>\n      <td>United Kingdom</td>\n    </tr>\n    <tr>\n      <th>3</th>\n      <td>536365</td>\n      <td>84029G</td>\n      <td>KNITTED UNION FLAG HOT WATER BOTTLE</td>\n      <td>6</td>\n      <td>2010-12-01 08:26:00</td>\n      <td>3.39</td>\n      <td>17850</td>\n      <td>United Kingdom</td>\n    </tr>\n    <tr>\n      <th>4</th>\n      <td>536365</td>\n      <td>84029E</td>\n      <td>RED WOOLLY HOTTIE WHITE HEART.</td>\n      <td>6</td>\n      <td>2010-12-01 08:26:00</td>\n      <td>3.39</td>\n      <td>17850</td>\n      <td>United Kingdom</td>\n    </tr>\n  </tbody>\n</table>\n</div>"
     },
     "execution_count": 18,
     "metadata": {},
     "output_type": "execute_result"
    }
   ],
   "source": [
    "retail.head()"
   ]
  },
  {
   "cell_type": "code",
   "execution_count": 19,
   "outputs": [],
   "source": [
    "tot_quantity_per_country = retail.loc[retail.Country != 'United Kingdom',].groupby('Country')['Quantity'].sum()"
   ],
   "metadata": {
    "collapsed": false,
    "pycharm": {
     "name": "#%%\n"
    }
   }
  },
  {
   "cell_type": "code",
   "execution_count": 20,
   "outputs": [],
   "source": [
    "top10 = tot_quantity_per_country.sort_values(ascending=False)[:10]"
   ],
   "metadata": {
    "collapsed": false,
    "pycharm": {
     "name": "#%%\n"
    }
   }
  },
  {
   "cell_type": "code",
   "execution_count": 21,
   "outputs": [
    {
     "data": {
      "text/plain": "Country\nNetherlands    200361\nEIRE           140275\nGermany        119261\nFrance         111471\nAustralia       83901\nSweden          36083\nSwitzerland     30082\nSpain           27940\nJapan           26016\nBelgium         23237\nName: Quantity, dtype: int64"
     },
     "execution_count": 21,
     "metadata": {},
     "output_type": "execute_result"
    }
   ],
   "source": [
    "top10"
   ],
   "metadata": {
    "collapsed": false,
    "pycharm": {
     "name": "#%%\n"
    }
   }
  },
  {
   "cell_type": "code",
   "execution_count": 22,
   "outputs": [
    {
     "data": {
      "text/plain": "<Figure size 640x480 with 1 Axes>",
      "image/png": "[encoded data removed]"
     },
     "metadata": {},
     "output_type": "display_data"
    }
   ],
   "source": [
    "x = top10.index\n",
    "y = top10.values\n",
    "\n",
    "_, ax = plt.subplots()\n",
    "ax.bar(x, y)\n",
    "ax.tick_params(axis='x', rotation=90)\n",
    "ax.set_title(\"Top 10 countries (UK excluded) based on the total amount ordered\")\n",
    "ax.set_ylabel(\"Quantity\")\n",
    "\n",
    "plt.show()"
   ],
   "metadata": {
    "collapsed": false,
    "pycharm": {
     "name": "#%%\n"
    }
   }
  },
  {
   "cell_type": "markdown",
   "metadata": {
    "id": "t7EeBDjeBikv",
    "pycharm": {
     "name": "#%% md\n"
    }
   },
   "source": [
    "### 3. Među kupcima iz prethodno određenih top 10 zemalja, odrediti top 15 kupaca (CustomerID) po ukupnoj vrednosti porudžbine (10p)\n",
    "\n",
    "Pri računanju ukupne vrednosti porudžbine, uzmite u obzir naručenu količinu (``Quantity``) i jediničnu cenu (``UnitPrice``) za svaki naručeni artikal. "
   ]
  },
  {
   "cell_type": "code",
   "execution_count": 23,
   "metadata": {
    "id": "rJ-UGxIWBikv",
    "pycharm": {
     "name": "#%%\n"
    }
   },
   "outputs": [],
   "source": [
    "retail['Price'] = retail.Quantity * retail.UnitPrice"
   ]
  },
  {
   "cell_type": "code",
   "execution_count": 24,
   "outputs": [],
   "source": [
    "tot_price_per_customer = retail.loc[retail.Country.apply(lambda c: c in top10.index.tolist()),].groupby('CustomerID')['Price'].sum()"
   ],
   "metadata": {
    "collapsed": false,
    "pycharm": {
     "name": "#%%\n"
    }
   }
  },
  {
   "cell_type": "code",
   "execution_count": 25,
   "outputs": [
    {
     "data": {
      "text/plain": "CustomerID\n14646    280206.02\n14911    143825.06\n12415    124914.53\n14156    117379.63\n17404     31906.82\n12753     21429.39\n12471     19824.05\n12731     18895.91\n12678     17628.46\n12681     13787.54\n12621     13689.67\n12540     13400.24\n12477     13219.74\n12536     12601.83\n12682     12288.22\nName: Price, dtype: float64"
     },
     "execution_count": 25,
     "metadata": {},
     "output_type": "execute_result"
    }
   ],
   "source": [
    "tot_price_per_customer.sort_values(ascending=False).head(15)"
   ],
   "metadata": {
    "collapsed": false,
    "pycharm": {
     "name": "#%%\n"
    }
   }
  },
  {
   "cell_type": "markdown",
   "metadata": {
    "id": "0HfyFNvvBikw",
    "pycharm": {
     "name": "#%% md\n"
    }
   },
   "source": [
    "### 4. Izračunati ukupan broj porudžbina u toku svakog meseca i to prikazati grafički (line chart) (15p)"
   ]
  },
  {
   "cell_type": "code",
   "execution_count": 26,
   "outputs": [],
   "source": [
    "retail['Month'] = retail.InvoiceDate.dt.month"
   ],
   "metadata": {
    "collapsed": false,
    "pycharm": {
     "name": "#%%\n"
    }
   }
  },
  {
   "cell_type": "code",
   "execution_count": 27,
   "outputs": [],
   "source": [
    "unique_orders = retail[['InvoiceNo','Month']].drop_duplicates()"
   ],
   "metadata": {
    "collapsed": false,
    "pycharm": {
     "name": "#%%\n"
    }
   }
  },
  {
   "cell_type": "code",
   "execution_count": 28,
   "metadata": {
    "id": "XOiTUmlkBikx",
    "pycharm": {
     "name": "#%%\n"
    }
   },
   "outputs": [],
   "source": [
    "order_per_month = unique_orders.Month.value_counts().sort_index()"
   ]
  },
  {
   "cell_type": "code",
   "execution_count": 29,
   "outputs": [
    {
     "data": {
      "text/plain": "1      987\n2      997\n3     1321\n4     1149\n5     1555\n6     1393\n7     1331\n8     1280\n9     1755\n10    1929\n11    2657\n12    2178\nName: Month, dtype: int64"
     },
     "execution_count": 29,
     "metadata": {},
     "output_type": "execute_result"
    }
   ],
   "source": [
    "order_per_month"
   ],
   "metadata": {
    "collapsed": false,
    "pycharm": {
     "name": "#%%\n"
    }
   }
  },
  {
   "cell_type": "code",
   "execution_count": 30,
   "outputs": [
    {
     "data": {
      "text/plain": "<Figure size 640x480 with 1 Axes>",
      "image/png": "[encoded data removed]"
     },
     "metadata": {},
     "output_type": "display_data"
    }
   ],
   "source": [
    "x = order_per_month.index\n",
    "y = order_per_month.values\n",
    "\n",
    "_,ax = plt.subplots()\n",
    "ax.plot(x, y, marker='*')\n",
    "ax.set_title(\"Number of orders per month\")\n",
    "ax.set_xlabel(\"Month\")\n",
    "ax.set_ylabel(\"Number of orders\")\n",
    "ax.set_xticks(range(1,13))\n",
    "\n",
    "plt.grid(True)\n",
    "plt.show()"
   ],
   "metadata": {
    "collapsed": false,
    "pycharm": {
     "name": "#%%\n"
    }
   }
  },
  {
   "cell_type": "markdown",
   "metadata": {
    "id": "BsX6h8ndBikx",
    "pycharm": {
     "name": "#%% md\n"
    }
   },
   "source": [
    "### 5. Odrediti 10 najtraženijih artikala (u smislu naručene količine - Quantity) od strane kupaca iz Velike Britanije. Prikazati opise i naručenu količinu tih artikala (5p)"
   ]
  },
  {
   "cell_type": "code",
   "execution_count": 31,
   "metadata": {
    "id": "nxxQGj3zBiky",
    "pycharm": {
     "name": "#%%\n"
    }
   },
   "outputs": [
    {
     "data": {
      "text/plain": "  InvoiceNo StockCode                          Description  Quantity  \\\n0    536365    85123A   WHITE HANGING HEART T-LIGHT HOLDER         6   \n1    536365     71053                  WHITE METAL LANTERN         6   \n2    536365    84406B       CREAM CUPID HEARTS COAT HANGER         8   \n3    536365    84029G  KNITTED UNION FLAG HOT WATER BOTTLE         6   \n4    536365    84029E       RED WOOLLY HOTTIE WHITE HEART.         6   \n\n          InvoiceDate  UnitPrice  CustomerID         Country  Price  Month  \n0 2010-12-01 08:26:00       2.55       17850  United Kingdom  15.30     12  \n1 2010-12-01 08:26:00       3.39       17850  United Kingdom  20.34     12  \n2 2010-12-01 08:26:00       2.75       17850  United Kingdom  22.00     12  \n3 2010-12-01 08:26:00       3.39       17850  United Kingdom  20.34     12  \n4 2010-12-01 08:26:00       3.39       17850  United Kingdom  20.34     12  ",
      "text/html": "<div>\n<style scoped>\n    .dataframe tbody tr th:only-of-type {\n        vertical-align: middle;\n    }\n\n    .dataframe tbody tr th {\n        vertical-align: top;\n    }\n\n    .dataframe thead th {\n        text-align: right;\n    }\n</style>\n<table border=\"1\" class=\"dataframe\">\n  <thead>\n    <tr style=\"text-align: right;\">\n      <th></th>\n      <th>InvoiceNo</th>\n      <th>StockCode</th>\n      <th>Description</th>\n      <th>Quantity</th>\n      <th>InvoiceDate</th>\n      <th>UnitPrice</th>\n      <th>CustomerID</th>\n      <th>Country</th>\n      <th>Price</th>\n      <th>Month</th>\n    </tr>\n  </thead>\n  <tbody>\n    <tr>\n      <th>0</th>\n      <td>536365</td>\n      <td>85123A</td>\n      <td>WHITE HANGING HEART T-LIGHT HOLDER</td>\n      <td>6</td>\n      <td>2010-12-01 08:26:00</td>\n      <td>2.55</td>\n      <td>17850</td>\n      <td>United Kingdom</td>\n      <td>15.30</td>\n      <td>12</td>\n    </tr>\n    <tr>\n      <th>1</th>\n      <td>536365</td>\n      <td>71053</td>\n      <td>WHITE METAL LANTERN</td>\n      <td>6</td>\n      <td>2010-12-01 08:26:00</td>\n      <td>3.39</td>\n      <td>17850</td>\n      <td>United Kingdom</td>\n      <td>20.34</td>\n      <td>12</td>\n    </tr>\n    <tr>\n      <th>2</th>\n      <td>536365</td>\n      <td>84406B</td>\n      <td>CREAM CUPID HEARTS COAT HANGER</td>\n      <td>8</td>\n      <td>2010-12-01 08:26:00</td>\n      <td>2.75</td>\n      <td>17850</td>\n      <td>United Kingdom</td>\n      <td>22.00</td>\n      <td>12</td>\n    </tr>\n    <tr>\n      <th>3</th>\n      <td>536365</td>\n      <td>84029G</td>\n      <td>KNITTED UNION FLAG HOT WATER BOTTLE</td>\n      <td>6</td>\n      <td>2010-12-01 08:26:00</td>\n      <td>3.39</td>\n      <td>17850</td>\n      <td>United Kingdom</td>\n      <td>20.34</td>\n      <td>12</td>\n    </tr>\n    <tr>\n      <th>4</th>\n      <td>536365</td>\n      <td>84029E</td>\n      <td>RED WOOLLY HOTTIE WHITE HEART.</td>\n      <td>6</td>\n      <td>2010-12-01 08:26:00</td>\n      <td>3.39</td>\n      <td>17850</td>\n      <td>United Kingdom</td>\n      <td>20.34</td>\n      <td>12</td>\n    </tr>\n  </tbody>\n</table>\n</div>"
     },
     "execution_count": 31,
     "metadata": {},
     "output_type": "execute_result"
    }
   ],
   "source": [
    "retail.head()"
   ]
  },
  {
   "cell_type": "code",
   "execution_count": 32,
   "outputs": [],
   "source": [
    "quantity_per_article = retail.loc[retail.Country=='United Kingdom',].groupby('Description').Quantity.sum()"
   ],
   "metadata": {
    "collapsed": false,
    "pycharm": {
     "name": "#%%\n"
    }
   }
  },
  {
   "cell_type": "code",
   "execution_count": 33,
   "outputs": [],
   "source": [
    "top10_articles = quantity_per_article.sort_values(ascending=False).head(10)"
   ],
   "metadata": {
    "collapsed": false,
    "pycharm": {
     "name": "#%%\n"
    }
   }
  },
  {
   "cell_type": "code",
   "execution_count": 34,
   "outputs": [
    {
     "data": {
      "text/plain": "Description\nPAPER CRAFT , LITTLE BIRDIE           80995\nMEDIUM CERAMIC TOP STORAGE JAR        76919\nWORLD WAR 2 GLIDERS ASSTD DESIGNS     49182\nJUMBO BAG RED RETROSPOT               41981\nWHITE HANGING HEART T-LIGHT HOLDER    34648\nASSORTED COLOUR BIRD ORNAMENT         32727\nPOPCORN HOLDER                        28935\nPACK OF 12 LONDON TISSUES             24337\nBROCADE RING PURSE                    22711\nPACK OF 72 RETROSPOT CAKE CASES       22465\nName: Quantity, dtype: int64"
     },
     "execution_count": 34,
     "metadata": {},
     "output_type": "execute_result"
    }
   ],
   "source": [
    "top10_articles"
   ],
   "metadata": {
    "collapsed": false,
    "pycharm": {
     "name": "#%%\n"
    }
   }
  },
  {
   "cell_type": "markdown",
   "metadata": {
    "id": "CAujryY0Biky",
    "pycharm": {
     "name": "#%% md\n"
    }
   },
   "source": [
    "### 6. Odrediti broj porudzbina koje sadrže bar jedan \"lunch bag\" (5p)"
   ]
  },
  {
   "cell_type": "code",
   "execution_count": 35,
   "outputs": [],
   "source": [
    "lunch_bag_rows = retail.loc[retail.Description.apply(lambda d: 'lunch bag' in d.lower()),]"
   ],
   "metadata": {
    "collapsed": false,
    "pycharm": {
     "name": "#%%\n"
    }
   }
  },
  {
   "cell_type": "code",
   "execution_count": 36,
   "outputs": [
    {
     "data": {
      "text/plain": "3465"
     },
     "execution_count": 36,
     "metadata": {},
     "output_type": "execute_result"
    }
   ],
   "source": [
    "lunch_bag_rows.InvoiceNo.nunique()"
   ],
   "metadata": {
    "collapsed": false,
    "pycharm": {
     "name": "#%%\n"
    }
   }
  }
 ],
 "metadata": {
  "colab": {
   "collapsed_sections": [],
   "name": "Exam_Tasks_February_2021.ipynb",
   "provenance": []
  },
  "kernelspec": {
   "display_name": "Python 3 (ipykernel)",
   "language": "python",
   "name": "python3"
  },
  "language_info": {
   "codemirror_mode": {
    "name": "ipython",
    "version": 3
   },
   "file_extension": ".py",
   "mimetype": "text/x-python",
   "name": "python",
   "nbconvert_exporter": "python",
   "pygments_lexer": "ipython3",
   "version": "3.9.5"
  }
 },
 "nbformat": 4,
 "nbformat_minor": 1
}